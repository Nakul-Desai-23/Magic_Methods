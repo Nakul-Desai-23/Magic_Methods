{
 "cells": [
  {
   "cell_type": "markdown",
   "id": "8c6d6bb2",
   "metadata": {},
   "source": [
    "#### Comparision Protocol"
   ]
  },
  {
   "cell_type": "code",
   "execution_count": null,
   "id": "a5c04361",
   "metadata": {},
   "outputs": [],
   "source": [
    "1.__gt__\n",
    "2.__lt__\n",
    "3.__eq__\n",
    "4.__le__\n",
    "5.__ge__"
   ]
  },
  {
   "cell_type": "code",
   "execution_count": 1,
   "id": "ab5509af",
   "metadata": {},
   "outputs": [],
   "source": [
    "class Employee:\n",
    "    def __init__(self,name,age,pay):\n",
    "        self.name = name\n",
    "        self.age = age\n",
    "        self.pay = pay\n",
    "        \n",
    "    def __gt__(self,other):\n",
    "        if self.pay > other.pay:  #1000>900--->1000.__gt__(900)\n",
    "            return True\n",
    "        return False\n",
    "    def __lt__(self,other):\n",
    "        if self.pay<other.pay:\n",
    "            return True\n",
    "        return False\n",
    "    def __eq__(self,other):\n",
    "        if self.pay == other.pay:\n",
    "            return True\n",
    "        return False\n",
    "    \n",
    "    "
   ]
  },
  {
   "cell_type": "code",
   "execution_count": 3,
   "id": "4bda5ba2",
   "metadata": {},
   "outputs": [],
   "source": [
    "emp1 = Employee(\"Steve\",28,1000)\n",
    "emp2 = Employee(\"Bill\",30,2000)"
   ]
  },
  {
   "cell_type": "code",
   "execution_count": 4,
   "id": "2bd0ad22",
   "metadata": {},
   "outputs": [
    {
     "data": {
      "text/plain": [
       "False"
      ]
     },
     "execution_count": 4,
     "metadata": {},
     "output_type": "execute_result"
    }
   ],
   "source": [
    "emp1.__gt__(emp2)"
   ]
  },
  {
   "cell_type": "code",
   "execution_count": 5,
   "id": "c84cabb2",
   "metadata": {},
   "outputs": [
    {
     "data": {
      "text/plain": [
       "True"
      ]
     },
     "execution_count": 5,
     "metadata": {},
     "output_type": "execute_result"
    }
   ],
   "source": [
    "emp1.__lt__(emp2)"
   ]
  },
  {
   "cell_type": "code",
   "execution_count": 6,
   "id": "06418e1f",
   "metadata": {},
   "outputs": [
    {
     "data": {
      "text/plain": [
       "False"
      ]
     },
     "execution_count": 6,
     "metadata": {},
     "output_type": "execute_result"
    }
   ],
   "source": [
    "emp1.__eq__(emp2)"
   ]
  },
  {
   "cell_type": "code",
   "execution_count": 7,
   "id": "a964688a",
   "metadata": {},
   "outputs": [],
   "source": [
    "class Employee:\n",
    "    def __init__(self,name,age,pay):\n",
    "        self.name = name\n",
    "        self.age = age\n",
    "        self.pay = pay\n",
    "        \n",
    "    def __gt__(self,other):\n",
    "        if self.age > other.age:  #1000>900--->1000.__gt__(900)\n",
    "            return True\n",
    "        return False\n",
    "    def __lt__(self,other):\n",
    "        if self.age<other.age:\n",
    "            return True\n",
    "        return False\n",
    "    def __eq__(self,other):\n",
    "        if self.age == other.age:\n",
    "            return True\n",
    "        return False\n",
    "    "
   ]
  },
  {
   "cell_type": "code",
   "execution_count": 11,
   "id": "8a059974",
   "metadata": {},
   "outputs": [],
   "source": [
    "emp1 = Employee(\"Steve\",28,1000)\n",
    "emp2 = Employee(\"Bill\",26,2000)"
   ]
  },
  {
   "cell_type": "code",
   "execution_count": 12,
   "id": "b662c62e",
   "metadata": {},
   "outputs": [
    {
     "data": {
      "text/plain": [
       "True"
      ]
     },
     "execution_count": 12,
     "metadata": {},
     "output_type": "execute_result"
    }
   ],
   "source": [
    "emp1.__gt__(emp2)"
   ]
  },
  {
   "cell_type": "code",
   "execution_count": 13,
   "id": "161385f2",
   "metadata": {},
   "outputs": [
    {
     "data": {
      "text/plain": [
       "False"
      ]
     },
     "execution_count": 13,
     "metadata": {},
     "output_type": "execute_result"
    }
   ],
   "source": [
    "emp1.__lt__(emp2)"
   ]
  },
  {
   "cell_type": "code",
   "execution_count": 14,
   "id": "4ae6dead",
   "metadata": {},
   "outputs": [
    {
     "data": {
      "text/plain": [
       "False"
      ]
     },
     "execution_count": 14,
     "metadata": {},
     "output_type": "execute_result"
    }
   ],
   "source": [
    "emp1.__eq__(emp2)"
   ]
  },
  {
   "cell_type": "code",
   "execution_count": 39,
   "id": "6ec7946a",
   "metadata": {},
   "outputs": [],
   "source": [
    "#Sorting Employees based on pay\n",
    "\n",
    "class Employee:\n",
    "    def __init__(self,name,age,pay):\n",
    "        self.name = name\n",
    "        self.age = age\n",
    "        self.pay = pay\n",
    "        \n",
    "    def __gt__(self,other):\n",
    "        if self.age > other.age:  #1000>900--->1000.__gt__(900)\n",
    "            return True\n",
    "        return False\n",
    "    def __lt__(self,other):\n",
    "        if self.age<other.age:\n",
    "            return True\n",
    "        return False\n",
    "    def __eq__(self,other):\n",
    "        if self.age == other.age:\n",
    "            return True\n",
    "        return False"
   ]
  },
  {
   "cell_type": "code",
   "execution_count": 42,
   "id": "85aeb435",
   "metadata": {},
   "outputs": [
    {
     "name": "stdout",
     "output_type": "stream",
     "text": [
      "John 18 6000\n",
      "Mark 19 9000\n",
      "Bill 26 2000\n",
      "Steve 28 1000\n"
     ]
    }
   ],
   "source": [
    "e1 = Employee(\"Steve\",28,1000)\n",
    "e2 = Employee(\"Bill\",26 ,2000)\n",
    "e3 = Employee(\"John\",18,6000)\n",
    "e4 = Employee(\"Mark\",19,9000)\n",
    "\n",
    "#List that stores the instances of employee class as items in a list\n",
    "employees = [e1,e2,e3,e4]\n",
    "\n",
    "#Sorting using Key\n",
    "by_age = sorted(employees ,key = lambda item : item.age)\n",
    "for item in by_age:\n",
    "    print(item.name , item.age , item.pay)"
   ]
  },
  {
   "cell_type": "code",
   "execution_count": 46,
   "id": "af517d4f",
   "metadata": {},
   "outputs": [],
   "source": [
    "#Sorting without using key\n",
    "\n",
    "#Sorting Employees based on age\n",
    "\n",
    "class Employee:\n",
    "    def __init__(self,name,age,pay):\n",
    "        self.name = name\n",
    "        self.age = age\n",
    "        self.pay = pay\n",
    "        \n",
    "    def __gt__(self,other):\n",
    "        if self.pay > other.pay:  #1000>900--->1000.__gt__(900)\n",
    "            return True\n",
    "        return False\n",
    "    \n",
    "    def __lt__(self,other):\n",
    "        if self.pay < other.pay:\n",
    "            return True\n",
    "        return False\n",
    "    \n",
    "    def __eq__(self,other):\n",
    "        if self.pay == other.pay:\n",
    "            return True\n",
    "        return False\n",
    "    \n",
    "    \n"
   ]
  },
  {
   "cell_type": "code",
   "execution_count": 47,
   "id": "32e10263",
   "metadata": {},
   "outputs": [],
   "source": [
    "e1 = Employee(\"Steve\",28,1000)\n",
    "e2 = Employee(\"Bill\",26 ,2000)\n",
    "e3 = Employee(\"John\",18,6000)\n",
    "e4 = Employee(\"Mark\",19,9000)\n",
    "\n",
    "employees = [e1,e2,e3,e4]\n"
   ]
  },
  {
   "cell_type": "code",
   "execution_count": 48,
   "id": "38b8b544",
   "metadata": {},
   "outputs": [
    {
     "name": "stdout",
     "output_type": "stream",
     "text": [
      "Steve 28 1000\n",
      "Bill 26 2000\n",
      "John 18 6000\n",
      "Mark 19 9000\n"
     ]
    }
   ],
   "source": [
    "by_pay = sorted(employees)\n",
    "for item in by_pay:\n",
    "    print(item.name,item.age,item.pay)"
   ]
  },
  {
   "cell_type": "code",
   "execution_count": 49,
   "id": "68b4aade",
   "metadata": {},
   "outputs": [
    {
     "name": "stdout",
     "output_type": "stream",
     "text": [
      "Mark 19 9000\n",
      "John 18 6000\n",
      "Bill 26 2000\n",
      "Steve 28 1000\n"
     ]
    }
   ],
   "source": [
    "by_pay = sorted(employees ,reverse = True)\n",
    "for item in by_pay:\n",
    "    print(item.name,item.age,item.pay)"
   ]
  },
  {
   "cell_type": "code",
   "execution_count": null,
   "id": "62d57c85",
   "metadata": {},
   "outputs": [],
   "source": []
  },
  {
   "cell_type": "code",
   "execution_count": 52,
   "id": "551051c2",
   "metadata": {},
   "outputs": [],
   "source": [
    "class Point:\n",
    "    def __init__(self , a ,b):\n",
    "        self.a = a\n",
    "        self.b = b\n",
    "        \n",
    "    def __gt__(self ,other):\n",
    "        if self.a + self.b > other.a + other.b:\n",
    "            return True\n",
    "        return False\n",
    "    \n",
    "    def __lt__(self,other):\n",
    "        if self.a + self.b < other.a + other.b:\n",
    "            return True\n",
    "        return False\n",
    "    \n",
    "    def __eq__(self , other):\n",
    "         if self.a + self.b == other.a + other.b:\n",
    "            return True\n",
    "         return False"
   ]
  },
  {
   "cell_type": "code",
   "execution_count": 53,
   "id": "d7fd944a",
   "metadata": {},
   "outputs": [],
   "source": [
    "p1 = Point(1,6)\n",
    "p2 = Point(3,4)"
   ]
  },
  {
   "cell_type": "code",
   "execution_count": 60,
   "id": "42bb4200",
   "metadata": {},
   "outputs": [
    {
     "data": {
      "text/plain": [
       "{'a': 1, 'b': 6}"
      ]
     },
     "execution_count": 60,
     "metadata": {},
     "output_type": "execute_result"
    }
   ],
   "source": [
    "p1.__dict__\n"
   ]
  },
  {
   "cell_type": "code",
   "execution_count": 59,
   "id": "8be6bdfc",
   "metadata": {},
   "outputs": [
    {
     "data": {
      "text/plain": [
       "{'a': 3, 'b': 4}"
      ]
     },
     "execution_count": 59,
     "metadata": {},
     "output_type": "execute_result"
    }
   ],
   "source": [
    "p2.__dict__"
   ]
  },
  {
   "cell_type": "code",
   "execution_count": 54,
   "id": "9b708f7b",
   "metadata": {},
   "outputs": [
    {
     "data": {
      "text/plain": [
       "False"
      ]
     },
     "execution_count": 54,
     "metadata": {},
     "output_type": "execute_result"
    }
   ],
   "source": [
    "p1.__gt__(p2)"
   ]
  },
  {
   "cell_type": "code",
   "execution_count": 55,
   "id": "948f0b5d",
   "metadata": {},
   "outputs": [
    {
     "data": {
      "text/plain": [
       "False"
      ]
     },
     "execution_count": 55,
     "metadata": {},
     "output_type": "execute_result"
    }
   ],
   "source": [
    "p1.__lt__(p2)"
   ]
  },
  {
   "cell_type": "code",
   "execution_count": 56,
   "id": "a52170e2",
   "metadata": {},
   "outputs": [
    {
     "data": {
      "text/plain": [
       "True"
      ]
     },
     "execution_count": 56,
     "metadata": {},
     "output_type": "execute_result"
    }
   ],
   "source": [
    "p1.__eq__(p2)"
   ]
  },
  {
   "cell_type": "markdown",
   "id": "d853f8b2",
   "metadata": {},
   "source": [
    "#### Number Protocol"
   ]
  },
  {
   "cell_type": "code",
   "execution_count": 99,
   "id": "d3f16938",
   "metadata": {},
   "outputs": [],
   "source": [
    "class Point:\n",
    "    def __init__(self , a,b):\n",
    "        self.a = a\n",
    "        self.b = b\n",
    "        \n",
    "    def __add__(self,other):\n",
    "        n1 = self.a + self.b\n",
    "        n2 = other.a + other.b\n",
    "        return Point(n1 , n2)\n",
    "    \n",
    "    def __sub__(self ,other):\n",
    "        n1 = self.a - self.b\n",
    "        n2 = other.a - other.b\n",
    "        return Point(n1 , n2)\n",
    "    \n",
    "    def __mul__(self ,other):\n",
    "        n1 = self.a * self.b\n",
    "        n2 = other.a * other.b\n",
    "        return Point(n1 , n2)\n",
    "    \n",
    "    def __truediv__(self ,other):\n",
    "        n1 = self.a/self.b\n",
    "        n2 = other.a/other.b\n",
    "        return Point(n1 , n2)"
   ]
  },
  {
   "cell_type": "code",
   "execution_count": 100,
   "id": "e1f27993",
   "metadata": {},
   "outputs": [],
   "source": [
    "p1 = Point(6,9)\n",
    "p2 = Point(3,12)"
   ]
  },
  {
   "cell_type": "code",
   "execution_count": 101,
   "id": "c172c0c5",
   "metadata": {},
   "outputs": [
    {
     "data": {
      "text/plain": [
       "{'a': 6, 'b': 9}"
      ]
     },
     "execution_count": 101,
     "metadata": {},
     "output_type": "execute_result"
    }
   ],
   "source": [
    "p1.__dict__"
   ]
  },
  {
   "cell_type": "code",
   "execution_count": 102,
   "id": "60909977",
   "metadata": {},
   "outputs": [
    {
     "data": {
      "text/plain": [
       "{'a': 3, 'b': 12}"
      ]
     },
     "execution_count": 102,
     "metadata": {},
     "output_type": "execute_result"
    }
   ],
   "source": [
    "p2.__dict__"
   ]
  },
  {
   "cell_type": "code",
   "execution_count": 103,
   "id": "9ef26023",
   "metadata": {},
   "outputs": [
    {
     "data": {
      "text/plain": [
       "{'a': 15, 'b': 15}"
      ]
     },
     "execution_count": 103,
     "metadata": {},
     "output_type": "execute_result"
    }
   ],
   "source": [
    "result=p1.__add__(p2)\n",
    "result.__dict__"
   ]
  },
  {
   "cell_type": "code",
   "execution_count": 104,
   "id": "164a2219",
   "metadata": {},
   "outputs": [
    {
     "data": {
      "text/plain": [
       "{'a': -3, 'b': -9}"
      ]
     },
     "execution_count": 104,
     "metadata": {},
     "output_type": "execute_result"
    }
   ],
   "source": [
    "result=p1.__sub__(p2)\n",
    "result.__dict__"
   ]
  },
  {
   "cell_type": "code",
   "execution_count": 105,
   "id": "718fd5b8",
   "metadata": {},
   "outputs": [
    {
     "data": {
      "text/plain": [
       "{'a': 54, 'b': 36}"
      ]
     },
     "execution_count": 105,
     "metadata": {},
     "output_type": "execute_result"
    }
   ],
   "source": [
    "result=p1.__mul__(p2)\n",
    "result.__dict__"
   ]
  },
  {
   "cell_type": "code",
   "execution_count": 106,
   "id": "4ca104d8",
   "metadata": {},
   "outputs": [
    {
     "data": {
      "text/plain": [
       "{'a': 0.6666666666666666, 'b': 0.25}"
      ]
     },
     "execution_count": 106,
     "metadata": {},
     "output_type": "execute_result"
    }
   ],
   "source": [
    "result=p1.__truediv__(p2)\n",
    "result.__dict__"
   ]
  },
  {
   "cell_type": "markdown",
   "id": "b91fc918",
   "metadata": {},
   "source": [
    "#### Truthiness Protocol (__bool__ and __len__)"
   ]
  },
  {
   "cell_type": "code",
   "execution_count": null,
   "id": "9e7b67eb",
   "metadata": {},
   "outputs": [],
   "source": [
    "#First python will check if __bool__ is implemented or not\n",
    "#If it is not implemented, __len__ will be called as fallback mechanism"
   ]
  },
  {
   "cell_type": "code",
   "execution_count": 112,
   "id": "41856c2a",
   "metadata": {},
   "outputs": [],
   "source": [
    "class Point:\n",
    "    def __init__(self ,a ,b):\n",
    "        self.a = a\n",
    "        self.b = b\n",
    "        \n",
    "    def __bool__(self):\n",
    "        print(\"__bool__\")\n",
    "        if self.a == 0 and self.b ==0:\n",
    "            return False\n",
    "        return True"
   ]
  },
  {
   "cell_type": "code",
   "execution_count": 114,
   "id": "dbc89f62",
   "metadata": {},
   "outputs": [
    {
     "name": "stdout",
     "output_type": "stream",
     "text": [
      "__bool__\n"
     ]
    },
    {
     "data": {
      "text/plain": [
       "True"
      ]
     },
     "execution_count": 114,
     "metadata": {},
     "output_type": "execute_result"
    }
   ],
   "source": [
    "p1 = Point(0,1)\n",
    "p1.__bool__()"
   ]
  },
  {
   "cell_type": "code",
   "execution_count": 115,
   "id": "64081def",
   "metadata": {},
   "outputs": [
    {
     "name": "stdout",
     "output_type": "stream",
     "text": [
      "__bool__\n"
     ]
    },
    {
     "data": {
      "text/plain": [
       "False"
      ]
     },
     "execution_count": 115,
     "metadata": {},
     "output_type": "execute_result"
    }
   ],
   "source": [
    "p2 = Point(0,0)\n",
    "p2.__bool__()"
   ]
  },
  {
   "cell_type": "code",
   "execution_count": 124,
   "id": "dcfb9d0a",
   "metadata": {},
   "outputs": [],
   "source": [
    "class Employee:\n",
    "    def __init__(self,name,age,pay):\n",
    "        self.name = name\n",
    "        self.age = age\n",
    "        self.pay = pay\n",
    "        \n",
    "#     #def __bool__(self):\n",
    "#         if self.age > 18:\n",
    "#             return True\n",
    "#         return False\n",
    "    \n",
    "    def __bool__(self):\n",
    "        if self.pay >= 1000:\n",
    "            return True \n",
    "        return False"
   ]
  },
  {
   "cell_type": "code",
   "execution_count": 125,
   "id": "5fd4f97c",
   "metadata": {},
   "outputs": [],
   "source": [
    "emp = Employee(\"Steve\",8,1999)"
   ]
  },
  {
   "cell_type": "code",
   "execution_count": 126,
   "id": "9df6edd5",
   "metadata": {},
   "outputs": [
    {
     "name": "stdout",
     "output_type": "stream",
     "text": [
      "hi\n"
     ]
    }
   ],
   "source": [
    "if emp:\n",
    "    print(\"hi\")\n",
    "else:\n",
    "    print(\"bye\")"
   ]
  },
  {
   "cell_type": "markdown",
   "id": "26af6024",
   "metadata": {},
   "source": [
    "#### Object Protocol"
   ]
  },
  {
   "cell_type": "code",
   "execution_count": null,
   "id": "490020dd",
   "metadata": {},
   "outputs": [],
   "source": [
    "#Both __str__ and __repr__ methods are used to return string output for the object instance to reduce the complexity"
   ]
  },
  {
   "cell_type": "code",
   "execution_count": 65,
   "id": "1e20a6d7",
   "metadata": {},
   "outputs": [],
   "source": [
    "class Point:\n",
    "    def __init__(self ,a ,b):\n",
    "        self.a = a\n",
    "        self.b = b\n",
    "        \n",
    "    def __str__(self):\n",
    "        print(\"__str__getting called\")\n",
    "        return f\"Point({self.a},{self.b})\"\n",
    "    \n",
    "    def __repr__(self):\n",
    "        return f\"Point({self.a},{self.b})\""
   ]
  },
  {
   "cell_type": "code",
   "execution_count": 66,
   "id": "3954adfd",
   "metadata": {},
   "outputs": [],
   "source": [
    "p1 = Point(1,2)\n",
    "p2 = Point(3,4)"
   ]
  },
  {
   "cell_type": "code",
   "execution_count": 67,
   "id": "19716190",
   "metadata": {},
   "outputs": [
    {
     "name": "stdout",
     "output_type": "stream",
     "text": [
      "__str__getting called\n",
      "Point(1,2)\n"
     ]
    }
   ],
   "source": [
    "print(p1) #p1.__str__() operates here"
   ]
  },
  {
   "cell_type": "code",
   "execution_count": 4,
   "id": "875c38c2",
   "metadata": {},
   "outputs": [
    {
     "name": "stdout",
     "output_type": "stream",
     "text": [
      "__str__getting called\n"
     ]
    },
    {
     "data": {
      "text/plain": [
       "'Point(1,2)'"
      ]
     },
     "execution_count": 4,
     "metadata": {},
     "output_type": "execute_result"
    }
   ],
   "source": [
    "p1.__str__()"
   ]
  },
  {
   "cell_type": "code",
   "execution_count": 6,
   "id": "0eada999",
   "metadata": {},
   "outputs": [
    {
     "data": {
      "text/plain": [
       "Point(1,2)"
      ]
     },
     "execution_count": 6,
     "metadata": {},
     "output_type": "execute_result"
    }
   ],
   "source": [
    "p1   #p1.__repr__() operates here"
   ]
  },
  {
   "cell_type": "code",
   "execution_count": 8,
   "id": "ff20bf56",
   "metadata": {},
   "outputs": [
    {
     "data": {
      "text/plain": [
       "'Point(1,2)'"
      ]
     },
     "execution_count": 8,
     "metadata": {},
     "output_type": "execute_result"
    }
   ],
   "source": [
    "p1.__repr__()"
   ]
  },
  {
   "cell_type": "code",
   "execution_count": 17,
   "id": "e2c6e395",
   "metadata": {},
   "outputs": [],
   "source": [
    "class Employee:\n",
    "    def __init__(self , name ,age ,pay):\n",
    "        self.name =name \n",
    "        self.age =age\n",
    "        self.pay = pay\n",
    "        \n",
    "# #     def __repr__(self):\n",
    "#         return f\"Employee({self.name},{self.age},{self.pay})\"\n",
    "    \n",
    "    def __gt__(self , other):\n",
    "        if self.age > other.age:\n",
    "            return True\n",
    "        return False\n",
    "    \n",
    "    def __lt__(self , other):\n",
    "        if self.age < other.age:\n",
    "            return True\n",
    "        return False\n",
    "    \n",
    "    def __eq__(self , other):\n",
    "        if self.age == other.age:\n",
    "            return True\n",
    "        return False"
   ]
  },
  {
   "cell_type": "code",
   "execution_count": 18,
   "id": "4d764b7b",
   "metadata": {},
   "outputs": [],
   "source": [
    "e1 = Employee(\"steve\", 28, 1000)\n",
    "e2 = Employee(\"bill\", 26, 2000)\n",
    "e3 = Employee(\"john\", 18, 6000)\n",
    "e4 = Employee(\"mark\", 19, 7000)"
   ]
  },
  {
   "cell_type": "code",
   "execution_count": 19,
   "id": "be23ccc2",
   "metadata": {},
   "outputs": [],
   "source": [
    "employees = [e1, e2, e3, e4]"
   ]
  },
  {
   "cell_type": "code",
   "execution_count": 20,
   "id": "1300740e",
   "metadata": {},
   "outputs": [
    {
     "data": {
      "text/plain": [
       "[<__main__.Employee at 0x1df98e19810>,\n",
       " <__main__.Employee at 0x1df98dcf890>,\n",
       " <__main__.Employee at 0x1df986a3950>,\n",
       " <__main__.Employee at 0x1df98e1a7d0>]"
      ]
     },
     "execution_count": 20,
     "metadata": {},
     "output_type": "execute_result"
    }
   ],
   "source": [
    "employees #When __repr__ method is not used it gives back reference address"
   ]
  },
  {
   "cell_type": "code",
   "execution_count": 22,
   "id": "c255e10d",
   "metadata": {},
   "outputs": [],
   "source": [
    "class Employee:\n",
    "    def __init__(self , name ,age ,pay):\n",
    "        self.name =name \n",
    "        self.age =age\n",
    "        self.pay = pay\n",
    "        \n",
    "    def __repr__(self):\n",
    "         return f\"Employee({self.name},{self.age},{self.pay})\"\n",
    "    \n",
    "    def __gt__(self , other):\n",
    "        if self.age > other.age:\n",
    "            return True\n",
    "        return False\n",
    "    \n",
    "    def __lt__(self , other):\n",
    "        if self.age < other.age:\n",
    "            return True\n",
    "        return False\n",
    "    \n",
    "    def __eq__(self , other):\n",
    "        if self.age == other.age:\n",
    "            return True\n",
    "        return False"
   ]
  },
  {
   "cell_type": "code",
   "execution_count": 23,
   "id": "2a1e8ab5",
   "metadata": {},
   "outputs": [],
   "source": [
    "e1 = Employee(\"steve\", 28, 1000)\n",
    "e2 = Employee(\"bill\", 26, 2000)\n",
    "e3 = Employee(\"john\", 18, 6000)\n",
    "e4 = Employee(\"mark\", 19, 7000)"
   ]
  },
  {
   "cell_type": "code",
   "execution_count": 25,
   "id": "f1787008",
   "metadata": {},
   "outputs": [],
   "source": [
    "employees = [e1, e2, e3, e4]"
   ]
  },
  {
   "cell_type": "code",
   "execution_count": 26,
   "id": "5a60b063",
   "metadata": {},
   "outputs": [
    {
     "data": {
      "text/plain": [
       "[Employee(steve,28,1000),\n",
       " Employee(bill,26,2000),\n",
       " Employee(john,18,6000),\n",
       " Employee(mark,19,7000)]"
      ]
     },
     "execution_count": 26,
     "metadata": {},
     "output_type": "execute_result"
    }
   ],
   "source": [
    "employees #When  __repr__ method is used it returns back the string output and hence gives more readibility"
   ]
  },
  {
   "cell_type": "markdown",
   "id": "339e9805",
   "metadata": {},
   "source": [
    "#### Context Manager Protocol"
   ]
  },
  {
   "cell_type": "code",
   "execution_count": null,
   "id": "39b00772",
   "metadata": {},
   "outputs": [],
   "source": [
    "# __enter__ and __exit__"
   ]
  },
  {
   "cell_type": "code",
   "execution_count": 58,
   "id": "6462637d",
   "metadata": {},
   "outputs": [
    {
     "name": "stdout",
     "output_type": "stream",
     "text": [
      "__enter__running\n",
      "0.2\n",
      "6\n",
      "-4\n",
      "5\n",
      "__exit__running\n",
      "None\n",
      "None\n",
      "None\n"
     ]
    }
   ],
   "source": [
    "class Calculator:\n",
    "    def __enter__(self):\n",
    "        print(\"__enter__running\")\n",
    "        return self\n",
    "        \n",
    "    def __exit__(self,exe_type,exe_value,traceback):\n",
    "        self.exe_type = exe_type\n",
    "        self.exe_value=exe_value\n",
    "        self.traceback=traceback\n",
    "        print(\"__exit__running\")\n",
    "        print(self.exe_type)\n",
    "        print(self.exe_value)\n",
    "        print(self.traceback)\n",
    "        \n",
    "    def __init__(self ,a ,b):\n",
    "        self.a = a\n",
    "        self.b = b\n",
    "        \n",
    "    def __add__(self):\n",
    "        return self.a + self.b\n",
    "    \n",
    "    def __sub__(self):\n",
    "        return self.a - self.b\n",
    "    \n",
    "    def __mul__(self):\n",
    "        return self.a * self.b\n",
    "    \n",
    "    def __truediv__(self):\n",
    "        return self.a / self.b\n",
    "    \n",
    "        \n",
    "with Calculator(1,5) as d:\n",
    "    print(d.__truediv__())\n",
    "    print(d.__add__())\n",
    "    print(d.__sub__())\n",
    "    print(d.__mul__())\n",
    "    "
   ]
  },
  {
   "cell_type": "code",
   "execution_count": 60,
   "id": "30a44eb1",
   "metadata": {},
   "outputs": [],
   "source": [
    "from time import time , sleep\n",
    "\n",
    "\n",
    "def add(a,b):\n",
    "    sleep(3)\n",
    "    return a + b\n",
    "\n",
    "def sub(a,b):\n",
    "    sleep(4)\n",
    "    return a - b"
   ]
  },
  {
   "cell_type": "code",
   "execution_count": 63,
   "id": "5480fa32",
   "metadata": {},
   "outputs": [],
   "source": [
    "class Timer:\n",
    "    \n",
    "    def __init__(self):\n",
    "        self.start = 0\n",
    "        self.end = 0\n",
    "        self.elapsed = 0\n",
    "        \n",
    "    def __enter__(self):\n",
    "        print(\"Enter is executing\")\n",
    "        self.start = time()\n",
    "        return self\n",
    "    \n",
    "    def __exit__(self , exe_type , exe_value ,traceback):\n",
    "        print(\"Exit is executing\")\n",
    "        self.end = time()\n",
    "        self.elapsed = self.end - self.start"
   ]
  },
  {
   "cell_type": "code",
   "execution_count": 64,
   "id": "3bbb1980",
   "metadata": {},
   "outputs": [
    {
     "name": "stdout",
     "output_type": "stream",
     "text": [
      "Enter is executing\n",
      "3\n",
      "2\n",
      "Exit is executing\n"
     ]
    }
   ],
   "source": [
    "with Timer() as t:\n",
    "    print(add(1,2))\n",
    "    print(sub(5,3))"
   ]
  },
  {
   "cell_type": "code",
   "execution_count": null,
   "id": "0dd94604",
   "metadata": {},
   "outputs": [],
   "source": []
  },
  {
   "cell_type": "code",
   "execution_count": null,
   "id": "634a09bf",
   "metadata": {},
   "outputs": [],
   "source": []
  },
  {
   "cell_type": "code",
   "execution_count": null,
   "id": "b074ad69",
   "metadata": {},
   "outputs": [],
   "source": []
  },
  {
   "cell_type": "code",
   "execution_count": null,
   "id": "2fbb3ff1",
   "metadata": {},
   "outputs": [],
   "source": []
  },
  {
   "cell_type": "code",
   "execution_count": null,
   "id": "135a59e3",
   "metadata": {},
   "outputs": [],
   "source": []
  },
  {
   "cell_type": "code",
   "execution_count": null,
   "id": "ffa63027",
   "metadata": {},
   "outputs": [],
   "source": []
  },
  {
   "cell_type": "code",
   "execution_count": null,
   "id": "ce0cc506",
   "metadata": {},
   "outputs": [],
   "source": []
  },
  {
   "cell_type": "code",
   "execution_count": null,
   "id": "1c19509c",
   "metadata": {},
   "outputs": [],
   "source": []
  },
  {
   "cell_type": "code",
   "execution_count": null,
   "id": "f5a8e63b",
   "metadata": {},
   "outputs": [],
   "source": []
  },
  {
   "cell_type": "code",
   "execution_count": null,
   "id": "60f08feb",
   "metadata": {},
   "outputs": [],
   "source": []
  },
  {
   "cell_type": "code",
   "execution_count": null,
   "id": "cc252805",
   "metadata": {},
   "outputs": [],
   "source": []
  },
  {
   "cell_type": "code",
   "execution_count": null,
   "id": "5580bc04",
   "metadata": {},
   "outputs": [],
   "source": []
  },
  {
   "cell_type": "code",
   "execution_count": null,
   "id": "030e50ff",
   "metadata": {},
   "outputs": [],
   "source": []
  }
 ],
 "metadata": {
  "kernelspec": {
   "display_name": "Python 3 (ipykernel)",
   "language": "python",
   "name": "python3"
  },
  "language_info": {
   "codemirror_mode": {
    "name": "ipython",
    "version": 3
   },
   "file_extension": ".py",
   "mimetype": "text/x-python",
   "name": "python",
   "nbconvert_exporter": "python",
   "pygments_lexer": "ipython3",
   "version": "3.11.3"
  }
 },
 "nbformat": 4,
 "nbformat_minor": 5
}
