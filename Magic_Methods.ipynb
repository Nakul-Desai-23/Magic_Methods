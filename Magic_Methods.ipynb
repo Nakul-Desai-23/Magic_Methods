{
 "cells": [
  {
   "cell_type": "markdown",
   "id": "a5aa05a1",
   "metadata": {},
   "source": [
    "#### Container Protocol"
   ]
  },
  {
   "cell_type": "code",
   "execution_count": null,
   "id": "ce19ebfe",
   "metadata": {},
   "outputs": [],
   "source": [
    "\n",
    "\n",
    "1.__contains__\n",
    "2.__len__\n",
    "3.__getitem__\n",
    "4.__setitem__\n",
    "5.__delitem__"
   ]
  },
  {
   "cell_type": "code",
   "execution_count": 1,
   "id": "b394c824",
   "metadata": {},
   "outputs": [],
   "source": [
    "class Point:\n",
    "    def __init__(self , a ,b):\n",
    "        self.a = a\n",
    "        self.b = b\n",
    "        \n",
    "    def __contains__(self,item):\n",
    "        if item ==self.a or item ==self.b:\n",
    "            return True\n",
    "        return False\n",
    "    \n",
    "    def __len__(self):\n",
    "        return 2\n",
    "    \n",
    "    def __getitem__(self , index):\n",
    "        if index == 0:\n",
    "            return self.a\n",
    "        if index == 1:\n",
    "            return self.b\n",
    "        raise IndexError (\"Point index out of range\")\n",
    "        \n",
    "    def __setitem__(self , index , value):\n",
    "        if index == 0 :\n",
    "            self.a = value\n",
    "        elif index == 1:\n",
    "            self.b = value\n",
    "        else:\n",
    "            raise IndexError (\"Point index out of range\")"
   ]
  },
  {
   "cell_type": "code",
   "execution_count": 2,
   "id": "8b9b2d0b",
   "metadata": {},
   "outputs": [
    {
     "data": {
      "text/plain": [
       "mappingproxy({'__module__': '__main__',\n",
       "              '__init__': <function __main__.Point.__init__(self, a, b)>,\n",
       "              '__contains__': <function __main__.Point.__contains__(self, item)>,\n",
       "              '__len__': <function __main__.Point.__len__(self)>,\n",
       "              '__getitem__': <function __main__.Point.__getitem__(self, index)>,\n",
       "              '__setitem__': <function __main__.Point.__setitem__(self, index, value)>,\n",
       "              '__dict__': <attribute '__dict__' of 'Point' objects>,\n",
       "              '__weakref__': <attribute '__weakref__' of 'Point' objects>,\n",
       "              '__doc__': None})"
      ]
     },
     "execution_count": 2,
     "metadata": {},
     "output_type": "execute_result"
    }
   ],
   "source": [
    "Point.__dict__"
   ]
  },
  {
   "cell_type": "code",
   "execution_count": 3,
   "id": "6ab45223",
   "metadata": {},
   "outputs": [
    {
     "data": {
      "text/plain": [
       "{'a': 1, 'b': 2}"
      ]
     },
     "execution_count": 3,
     "metadata": {},
     "output_type": "execute_result"
    }
   ],
   "source": [
    "p = Point(1,2)\n",
    "p.__dict__"
   ]
  },
  {
   "cell_type": "code",
   "execution_count": 4,
   "id": "97428d07",
   "metadata": {},
   "outputs": [
    {
     "data": {
      "text/plain": [
       "True"
      ]
     },
     "execution_count": 4,
     "metadata": {},
     "output_type": "execute_result"
    }
   ],
   "source": [
    "p.__contains__(2)"
   ]
  },
  {
   "cell_type": "code",
   "execution_count": 165,
   "id": "17fe3d86",
   "metadata": {},
   "outputs": [
    {
     "data": {
      "text/plain": [
       "1"
      ]
     },
     "execution_count": 165,
     "metadata": {},
     "output_type": "execute_result"
    }
   ],
   "source": [
    "p.a"
   ]
  },
  {
   "cell_type": "code",
   "execution_count": 5,
   "id": "6c312f2e",
   "metadata": {},
   "outputs": [
    {
     "data": {
      "text/plain": [
       "False"
      ]
     },
     "execution_count": 5,
     "metadata": {},
     "output_type": "execute_result"
    }
   ],
   "source": [
    "p.__contains__(3)"
   ]
  },
  {
   "cell_type": "code",
   "execution_count": 6,
   "id": "6836702f",
   "metadata": {},
   "outputs": [
    {
     "data": {
      "text/plain": [
       "2"
      ]
     },
     "execution_count": 6,
     "metadata": {},
     "output_type": "execute_result"
    }
   ],
   "source": [
    "p.__len__()"
   ]
  },
  {
   "cell_type": "code",
   "execution_count": 7,
   "id": "9e52cfbf",
   "metadata": {},
   "outputs": [
    {
     "data": {
      "text/plain": [
       "1"
      ]
     },
     "execution_count": 7,
     "metadata": {},
     "output_type": "execute_result"
    }
   ],
   "source": [
    "p.__getitem__(0)"
   ]
  },
  {
   "cell_type": "code",
   "execution_count": 8,
   "id": "1b25e4b3",
   "metadata": {},
   "outputs": [
    {
     "ename": "IndexError",
     "evalue": "Point index out of range",
     "output_type": "error",
     "traceback": [
      "\u001b[1;31m---------------------------------------------------------------------------\u001b[0m",
      "\u001b[1;31mIndexError\u001b[0m                                Traceback (most recent call last)",
      "Cell \u001b[1;32mIn[8], line 1\u001b[0m\n\u001b[1;32m----> 1\u001b[0m p\u001b[38;5;241m.\u001b[39m\u001b[38;5;21m__getitem__\u001b[39m(\u001b[38;5;241m3\u001b[39m)\n",
      "Cell \u001b[1;32mIn[1], line 19\u001b[0m, in \u001b[0;36mPoint.__getitem__\u001b[1;34m(self, index)\u001b[0m\n\u001b[0;32m     17\u001b[0m \u001b[38;5;28;01mif\u001b[39;00m index \u001b[38;5;241m==\u001b[39m \u001b[38;5;241m1\u001b[39m:\n\u001b[0;32m     18\u001b[0m     \u001b[38;5;28;01mreturn\u001b[39;00m \u001b[38;5;28mself\u001b[39m\u001b[38;5;241m.\u001b[39mb\n\u001b[1;32m---> 19\u001b[0m \u001b[38;5;28;01mraise\u001b[39;00m \u001b[38;5;167;01mIndexError\u001b[39;00m (\u001b[38;5;124m\"\u001b[39m\u001b[38;5;124mPoint index out of range\u001b[39m\u001b[38;5;124m\"\u001b[39m)\n",
      "\u001b[1;31mIndexError\u001b[0m: Point index out of range"
     ]
    }
   ],
   "source": [
    "p.__getitem__(3)"
   ]
  },
  {
   "cell_type": "code",
   "execution_count": 9,
   "id": "c3987edc",
   "metadata": {},
   "outputs": [],
   "source": [
    "p.__setitem__(0,10)"
   ]
  },
  {
   "cell_type": "code",
   "execution_count": 10,
   "id": "4428d724",
   "metadata": {},
   "outputs": [],
   "source": [
    "p.__setitem__(1,20)"
   ]
  },
  {
   "cell_type": "code",
   "execution_count": 11,
   "id": "394df272",
   "metadata": {},
   "outputs": [
    {
     "ename": "AttributeError",
     "evalue": "'Point' object has no attribute '__'",
     "output_type": "error",
     "traceback": [
      "\u001b[1;31m---------------------------------------------------------------------------\u001b[0m",
      "\u001b[1;31mAttributeError\u001b[0m                            Traceback (most recent call last)",
      "Cell \u001b[1;32mIn[11], line 1\u001b[0m\n\u001b[1;32m----> 1\u001b[0m p\u001b[38;5;241m.\u001b[39m__(\u001b[38;5;241m3\u001b[39m,\u001b[38;5;241m30\u001b[39m)\n",
      "\u001b[1;31mAttributeError\u001b[0m: 'Point' object has no attribute '__'"
     ]
    }
   ],
   "source": [
    "p.__(3,30)"
   ]
  },
  {
   "cell_type": "code",
   "execution_count": 12,
   "id": "5d3fd183",
   "metadata": {},
   "outputs": [
    {
     "data": {
      "text/plain": [
       "{'a': 10, 'b': 20}"
      ]
     },
     "execution_count": 12,
     "metadata": {},
     "output_type": "execute_result"
    }
   ],
   "source": [
    "p.__dict__"
   ]
  },
  {
   "cell_type": "code",
   "execution_count": 13,
   "id": "91fb518d",
   "metadata": {},
   "outputs": [],
   "source": [
    "#we want an additional functionality whereby we can set only positive numbers\n",
    "\n",
    "class PositivePoint(Point):\n",
    "    def __setitem__(self,index,value):\n",
    "        if value < 0:\n",
    "            raise ValueError (\"Negative values are not allowed\")\n",
    "        super().__setitem__(index,value)"
   ]
  },
  {
   "cell_type": "code",
   "execution_count": 18,
   "id": "1b162d7a",
   "metadata": {},
   "outputs": [
    {
     "data": {
      "text/plain": [
       "{'a': 11, 'b': 22}"
      ]
     },
     "execution_count": 18,
     "metadata": {},
     "output_type": "execute_result"
    }
   ],
   "source": [
    "pp = PositivePoint(10,20)\n",
    "\n",
    "pp.__setitem__(0,11)\n",
    "pp.__setitem__(1,22)\n",
    "pp.__dict__"
   ]
  },
  {
   "cell_type": "code",
   "execution_count": 19,
   "id": "afea3afb",
   "metadata": {},
   "outputs": [
    {
     "ename": "ValueError",
     "evalue": "Negative values are not allowed",
     "output_type": "error",
     "traceback": [
      "\u001b[1;31m---------------------------------------------------------------------------\u001b[0m",
      "\u001b[1;31mValueError\u001b[0m                                Traceback (most recent call last)",
      "Cell \u001b[1;32mIn[19], line 2\u001b[0m\n\u001b[0;32m      1\u001b[0m pp\u001b[38;5;241m.\u001b[39m\u001b[38;5;21m__setitem__\u001b[39m(\u001b[38;5;241m0\u001b[39m,\u001b[38;5;241m11\u001b[39m)\n\u001b[1;32m----> 2\u001b[0m pp\u001b[38;5;241m.\u001b[39m\u001b[38;5;21m__setitem__\u001b[39m(\u001b[38;5;241m1\u001b[39m,\u001b[38;5;241m-\u001b[39m\u001b[38;5;241m22\u001b[39m)\n",
      "Cell \u001b[1;32mIn[13], line 6\u001b[0m, in \u001b[0;36mPositivePoint.__setitem__\u001b[1;34m(self, index, value)\u001b[0m\n\u001b[0;32m      4\u001b[0m \u001b[38;5;28;01mdef\u001b[39;00m \u001b[38;5;21m__setitem__\u001b[39m(\u001b[38;5;28mself\u001b[39m,index,value):\n\u001b[0;32m      5\u001b[0m     \u001b[38;5;28;01mif\u001b[39;00m value \u001b[38;5;241m<\u001b[39m \u001b[38;5;241m0\u001b[39m:\n\u001b[1;32m----> 6\u001b[0m         \u001b[38;5;28;01mraise\u001b[39;00m \u001b[38;5;167;01mValueError\u001b[39;00m (\u001b[38;5;124m\"\u001b[39m\u001b[38;5;124mNegative values are not allowed\u001b[39m\u001b[38;5;124m\"\u001b[39m)\n\u001b[0;32m      7\u001b[0m     \u001b[38;5;28msuper\u001b[39m()\u001b[38;5;241m.\u001b[39m\u001b[38;5;21m__setitem__\u001b[39m(index,value)\n",
      "\u001b[1;31mValueError\u001b[0m: Negative values are not allowed"
     ]
    }
   ],
   "source": [
    "pp.__setitem__(0,11)\n",
    "pp.__setitem__(1,-22)"
   ]
  },
  {
   "cell_type": "code",
   "execution_count": 20,
   "id": "a18f3278",
   "metadata": {},
   "outputs": [],
   "source": [
    "#range of 0th index is 0-50\n",
    "#range of 1st index is 1-100\n",
    "\n",
    "class RangePoint(Point):\n",
    "    def __setitem__(self,index,value):\n",
    "        if index == 0:\n",
    "            if value>=0 and value<=50:\n",
    "                super().__setitem__(index,value)\n",
    "            else:\n",
    "                raise ValueError(\"Value out of range\")\n",
    "                \n",
    "        elif index == 1:\n",
    "            if value>=0 and value<=100:\n",
    "                super().__setitem__(index,value)\n",
    "            else:\n",
    "                raise ValueError(\"Value out of range\")\n",
    "                \n",
    "        else:\n",
    "            raise IndexError(\"Index out of range\")"
   ]
  },
  {
   "cell_type": "code",
   "execution_count": 22,
   "id": "4b4bffcb",
   "metadata": {},
   "outputs": [
    {
     "data": {
      "text/plain": [
       "{'a': 12, 'b': 23}"
      ]
     },
     "execution_count": 22,
     "metadata": {},
     "output_type": "execute_result"
    }
   ],
   "source": [
    "rp = RangePoint(12,23)\n",
    "rp.__dict__"
   ]
  },
  {
   "cell_type": "code",
   "execution_count": 26,
   "id": "bb4c0bff",
   "metadata": {},
   "outputs": [
    {
     "data": {
      "text/plain": [
       "{'a': 34, 'b': 73}"
      ]
     },
     "execution_count": 26,
     "metadata": {},
     "output_type": "execute_result"
    }
   ],
   "source": [
    "rp.__setitem__(0,34)\n",
    "rp.__dict__"
   ]
  },
  {
   "cell_type": "code",
   "execution_count": 27,
   "id": "571e3ea3",
   "metadata": {},
   "outputs": [
    {
     "ename": "ValueError",
     "evalue": "Value out of range",
     "output_type": "error",
     "traceback": [
      "\u001b[1;31m---------------------------------------------------------------------------\u001b[0m",
      "\u001b[1;31mValueError\u001b[0m                                Traceback (most recent call last)",
      "Cell \u001b[1;32mIn[27], line 1\u001b[0m\n\u001b[1;32m----> 1\u001b[0m rp\u001b[38;5;241m.\u001b[39m\u001b[38;5;21m__setitem__\u001b[39m(\u001b[38;5;241m0\u001b[39m,\u001b[38;5;241m55\u001b[39m)\n\u001b[0;32m      2\u001b[0m rp\u001b[38;5;241m.\u001b[39m\u001b[38;5;18m__dict__\u001b[39m\n",
      "Cell \u001b[1;32mIn[20], line 10\u001b[0m, in \u001b[0;36mRangePoint.__setitem__\u001b[1;34m(self, index, value)\u001b[0m\n\u001b[0;32m      8\u001b[0m         \u001b[38;5;28msuper\u001b[39m()\u001b[38;5;241m.\u001b[39m\u001b[38;5;21m__setitem__\u001b[39m(index,value)\n\u001b[0;32m      9\u001b[0m     \u001b[38;5;28;01melse\u001b[39;00m:\n\u001b[1;32m---> 10\u001b[0m         \u001b[38;5;28;01mraise\u001b[39;00m \u001b[38;5;167;01mValueError\u001b[39;00m(\u001b[38;5;124m\"\u001b[39m\u001b[38;5;124mValue out of range\u001b[39m\u001b[38;5;124m\"\u001b[39m)\n\u001b[0;32m     12\u001b[0m \u001b[38;5;28;01melif\u001b[39;00m index \u001b[38;5;241m==\u001b[39m \u001b[38;5;241m1\u001b[39m:\n\u001b[0;32m     13\u001b[0m     \u001b[38;5;28;01mif\u001b[39;00m value\u001b[38;5;241m>\u001b[39m\u001b[38;5;241m=\u001b[39m\u001b[38;5;241m0\u001b[39m \u001b[38;5;129;01mand\u001b[39;00m value\u001b[38;5;241m<\u001b[39m\u001b[38;5;241m=\u001b[39m\u001b[38;5;241m100\u001b[39m:\n",
      "\u001b[1;31mValueError\u001b[0m: Value out of range"
     ]
    }
   ],
   "source": [
    "rp.__setitem__(0,55)\n",
    "rp.__dict__"
   ]
  },
  {
   "cell_type": "code",
   "execution_count": 28,
   "id": "d607c9c7",
   "metadata": {},
   "outputs": [
    {
     "data": {
      "text/plain": [
       "{'a': 34, 'b': 55}"
      ]
     },
     "execution_count": 28,
     "metadata": {},
     "output_type": "execute_result"
    }
   ],
   "source": [
    "rp.__setitem__(1,55)\n",
    "rp.__dict__"
   ]
  },
  {
   "cell_type": "code",
   "execution_count": 29,
   "id": "f546b8d4",
   "metadata": {},
   "outputs": [
    {
     "ename": "ValueError",
     "evalue": "Value out of range",
     "output_type": "error",
     "traceback": [
      "\u001b[1;31m---------------------------------------------------------------------------\u001b[0m",
      "\u001b[1;31mValueError\u001b[0m                                Traceback (most recent call last)",
      "Cell \u001b[1;32mIn[29], line 1\u001b[0m\n\u001b[1;32m----> 1\u001b[0m rp\u001b[38;5;241m.\u001b[39m\u001b[38;5;21m__setitem__\u001b[39m(\u001b[38;5;241m1\u001b[39m,\u001b[38;5;241m115\u001b[39m)\n\u001b[0;32m      2\u001b[0m rp\u001b[38;5;241m.\u001b[39m\u001b[38;5;18m__dict__\u001b[39m\n",
      "Cell \u001b[1;32mIn[20], line 16\u001b[0m, in \u001b[0;36mRangePoint.__setitem__\u001b[1;34m(self, index, value)\u001b[0m\n\u001b[0;32m     14\u001b[0m         \u001b[38;5;28msuper\u001b[39m()\u001b[38;5;241m.\u001b[39m\u001b[38;5;21m__setitem__\u001b[39m(index,value)\n\u001b[0;32m     15\u001b[0m     \u001b[38;5;28;01melse\u001b[39;00m:\n\u001b[1;32m---> 16\u001b[0m         \u001b[38;5;28;01mraise\u001b[39;00m \u001b[38;5;167;01mValueError\u001b[39;00m(\u001b[38;5;124m\"\u001b[39m\u001b[38;5;124mValue out of range\u001b[39m\u001b[38;5;124m\"\u001b[39m)\n\u001b[0;32m     18\u001b[0m \u001b[38;5;28;01melse\u001b[39;00m:\n\u001b[0;32m     19\u001b[0m     \u001b[38;5;28;01mraise\u001b[39;00m \u001b[38;5;167;01mIndexError\u001b[39;00m(\u001b[38;5;124m\"\u001b[39m\u001b[38;5;124mIndex out of range\u001b[39m\u001b[38;5;124m\"\u001b[39m)\n",
      "\u001b[1;31mValueError\u001b[0m: Value out of range"
     ]
    }
   ],
   "source": [
    "rp.__setitem__(1,115)\n",
    "rp.__dict__"
   ]
  },
  {
   "cell_type": "code",
   "execution_count": 31,
   "id": "9adf617a",
   "metadata": {},
   "outputs": [],
   "source": [
    "class Point:\n",
    "    def __init__(self, *values):\n",
    "        self.items = []\n",
    "        for value in values :\n",
    "            self.items.append(value)\n",
    "            \n",
    "    def __len__(self):\n",
    "        return len(self.items)  #self.items.__len__()\n",
    "    \n",
    "    def __contains__(self,item):\n",
    "        if item in self.items:\n",
    "            return True\n",
    "        return False\n",
    "    \n",
    "    def __getitem__(self , index):\n",
    "        return self.items[index]     #items.__getitem__(index)\n",
    "    \n",
    "    \n",
    "    def __setitem__(self,index,value):\n",
    "        self.items[index] = value"
   ]
  },
  {
   "cell_type": "code",
   "execution_count": 32,
   "id": "ef20c3bc",
   "metadata": {},
   "outputs": [],
   "source": [
    "p = Point(1,2,3,4,5,6,7,8,9,10,11,12,13,14,15)"
   ]
  },
  {
   "cell_type": "code",
   "execution_count": 33,
   "id": "3607c52d",
   "metadata": {},
   "outputs": [
    {
     "data": {
      "text/plain": [
       "{'items': [1, 2, 3, 4, 5, 6, 7, 8, 9, 10, 11, 12, 13, 14, 15]}"
      ]
     },
     "execution_count": 33,
     "metadata": {},
     "output_type": "execute_result"
    }
   ],
   "source": [
    "p.__dict__"
   ]
  },
  {
   "cell_type": "code",
   "execution_count": 35,
   "id": "737c731d",
   "metadata": {},
   "outputs": [
    {
     "data": {
      "text/plain": [
       "15"
      ]
     },
     "execution_count": 35,
     "metadata": {},
     "output_type": "execute_result"
    }
   ],
   "source": [
    "p.__len__()"
   ]
  },
  {
   "cell_type": "code",
   "execution_count": 37,
   "id": "489e6c93",
   "metadata": {},
   "outputs": [
    {
     "data": {
      "text/plain": [
       "True"
      ]
     },
     "execution_count": 37,
     "metadata": {},
     "output_type": "execute_result"
    }
   ],
   "source": [
    "p.__contains__(12)"
   ]
  },
  {
   "cell_type": "code",
   "execution_count": 38,
   "id": "fb7e0561",
   "metadata": {},
   "outputs": [
    {
     "data": {
      "text/plain": [
       "False"
      ]
     },
     "execution_count": 38,
     "metadata": {},
     "output_type": "execute_result"
    }
   ],
   "source": [
    "p.__contains__(21)"
   ]
  },
  {
   "cell_type": "code",
   "execution_count": 39,
   "id": "a8cefe94",
   "metadata": {},
   "outputs": [
    {
     "data": {
      "text/plain": [
       "5"
      ]
     },
     "execution_count": 39,
     "metadata": {},
     "output_type": "execute_result"
    }
   ],
   "source": [
    "p.__getitem__(4)"
   ]
  },
  {
   "cell_type": "code",
   "execution_count": 40,
   "id": "449ed6a8",
   "metadata": {},
   "outputs": [
    {
     "ename": "IndexError",
     "evalue": "list index out of range",
     "output_type": "error",
     "traceback": [
      "\u001b[1;31m---------------------------------------------------------------------------\u001b[0m",
      "\u001b[1;31mIndexError\u001b[0m                                Traceback (most recent call last)",
      "Cell \u001b[1;32mIn[40], line 1\u001b[0m\n\u001b[1;32m----> 1\u001b[0m p\u001b[38;5;241m.\u001b[39m\u001b[38;5;21m__getitem__\u001b[39m(\u001b[38;5;241m15\u001b[39m)\n",
      "Cell \u001b[1;32mIn[31], line 16\u001b[0m, in \u001b[0;36mPoint.__getitem__\u001b[1;34m(self, index)\u001b[0m\n\u001b[0;32m     15\u001b[0m \u001b[38;5;28;01mdef\u001b[39;00m \u001b[38;5;21m__getitem__\u001b[39m(\u001b[38;5;28mself\u001b[39m , index):\n\u001b[1;32m---> 16\u001b[0m     \u001b[38;5;28;01mreturn\u001b[39;00m \u001b[38;5;28mself\u001b[39m\u001b[38;5;241m.\u001b[39mitems[index]\n",
      "\u001b[1;31mIndexError\u001b[0m: list index out of range"
     ]
    }
   ],
   "source": [
    "p.__getitem__(15)"
   ]
  },
  {
   "cell_type": "code",
   "execution_count": 42,
   "id": "53575944",
   "metadata": {},
   "outputs": [
    {
     "data": {
      "text/plain": [
       "{'items': [1, 2, 3, 4, 5, 6, 7, 8, 9, 10, 11, 66, 13, 14, 15]}"
      ]
     },
     "execution_count": 42,
     "metadata": {},
     "output_type": "execute_result"
    }
   ],
   "source": [
    "p.__setitem__(11,66)\n",
    "p.__dict__"
   ]
  },
  {
   "cell_type": "code",
   "execution_count": null,
   "id": "a6aa27aa",
   "metadata": {},
   "outputs": [],
   "source": [
    "####################################################"
   ]
  },
  {
   "cell_type": "markdown",
   "id": "34150a4b",
   "metadata": {},
   "source": [
    "#### Attribute Protocol"
   ]
  },
  {
   "cell_type": "markdown",
   "id": "fc270976",
   "metadata": {},
   "source": [
    "1. __getattribute__(self , name)\n",
    "2.__setattr__(self , name , value)\n",
    "3.__delattr__(self , name)"
   ]
  },
  {
   "cell_type": "code",
   "execution_count": 43,
   "id": "b0896db6",
   "metadata": {},
   "outputs": [],
   "source": [
    "class Point:\n",
    "    def __init__(self ,a ,b):\n",
    "        self.a = a   #p.a = 1\n",
    "        self.b = b   #p.b = -1\n",
    "        \n",
    "    #Overriding the __setattr__(name,value) method of the Object Class(which acts as the parent class for dot operator)\n",
    "    def __setattr__(self ,name , value):\n",
    "        print(f\"setting the attribute {name} to {value}\")\n",
    "        if value <0:\n",
    "            raise ValueError (\"Negative values not allowed\")\n",
    "        super().__setattr__(name , value ) \n",
    "        "
   ]
  },
  {
   "cell_type": "code",
   "execution_count": 44,
   "id": "e41235bd",
   "metadata": {},
   "outputs": [
    {
     "name": "stdout",
     "output_type": "stream",
     "text": [
      "setting the attribute a to 1\n",
      "setting the attribute b to 2\n"
     ]
    }
   ],
   "source": [
    "p = Point(1,2)"
   ]
  },
  {
   "cell_type": "code",
   "execution_count": 46,
   "id": "c0ff7718",
   "metadata": {},
   "outputs": [
    {
     "data": {
      "text/plain": [
       "{'a': 1, 'b': 2}"
      ]
     },
     "execution_count": 46,
     "metadata": {},
     "output_type": "execute_result"
    }
   ],
   "source": [
    "p.__dict__"
   ]
  },
  {
   "cell_type": "code",
   "execution_count": 45,
   "id": "63698fe1",
   "metadata": {},
   "outputs": [
    {
     "name": "stdout",
     "output_type": "stream",
     "text": [
      "setting the attribute a to 1\n",
      "setting the attribute b to -1\n"
     ]
    },
    {
     "ename": "ValueError",
     "evalue": "Negative values not allowed",
     "output_type": "error",
     "traceback": [
      "\u001b[1;31m---------------------------------------------------------------------------\u001b[0m",
      "\u001b[1;31mValueError\u001b[0m                                Traceback (most recent call last)",
      "Cell \u001b[1;32mIn[45], line 1\u001b[0m\n\u001b[1;32m----> 1\u001b[0m p \u001b[38;5;241m=\u001b[39m Point(\u001b[38;5;241m1\u001b[39m,\u001b[38;5;241m-\u001b[39m\u001b[38;5;241m1\u001b[39m)\n",
      "Cell \u001b[1;32mIn[43], line 4\u001b[0m, in \u001b[0;36mPoint.__init__\u001b[1;34m(self, a, b)\u001b[0m\n\u001b[0;32m      2\u001b[0m \u001b[38;5;28;01mdef\u001b[39;00m \u001b[38;5;21m__init__\u001b[39m(\u001b[38;5;28mself\u001b[39m ,a ,b):\n\u001b[0;32m      3\u001b[0m     \u001b[38;5;28mself\u001b[39m\u001b[38;5;241m.\u001b[39ma \u001b[38;5;241m=\u001b[39m a   \u001b[38;5;66;03m#p.a = 1\u001b[39;00m\n\u001b[1;32m----> 4\u001b[0m     \u001b[38;5;28mself\u001b[39m\u001b[38;5;241m.\u001b[39mb \u001b[38;5;241m=\u001b[39m b\n",
      "Cell \u001b[1;32mIn[43], line 10\u001b[0m, in \u001b[0;36mPoint.__setattr__\u001b[1;34m(self, name, value)\u001b[0m\n\u001b[0;32m      8\u001b[0m \u001b[38;5;28mprint\u001b[39m(\u001b[38;5;124mf\u001b[39m\u001b[38;5;124m\"\u001b[39m\u001b[38;5;124msetting the attribute \u001b[39m\u001b[38;5;132;01m{\u001b[39;00mname\u001b[38;5;132;01m}\u001b[39;00m\u001b[38;5;124m to \u001b[39m\u001b[38;5;132;01m{\u001b[39;00mvalue\u001b[38;5;132;01m}\u001b[39;00m\u001b[38;5;124m\"\u001b[39m)\n\u001b[0;32m      9\u001b[0m \u001b[38;5;28;01mif\u001b[39;00m value \u001b[38;5;241m<\u001b[39m\u001b[38;5;241m0\u001b[39m:\n\u001b[1;32m---> 10\u001b[0m     \u001b[38;5;28;01mraise\u001b[39;00m \u001b[38;5;167;01mValueError\u001b[39;00m (\u001b[38;5;124m\"\u001b[39m\u001b[38;5;124mNegative values not allowed\u001b[39m\u001b[38;5;124m\"\u001b[39m)\n\u001b[0;32m     11\u001b[0m \u001b[38;5;28msuper\u001b[39m()\u001b[38;5;241m.\u001b[39m\u001b[38;5;21m__setattr__\u001b[39m(name , value )\n",
      "\u001b[1;31mValueError\u001b[0m: Negative values not allowed"
     ]
    }
   ],
   "source": [
    "p = Point(1,-1)"
   ]
  },
  {
   "cell_type": "code",
   "execution_count": 29,
   "id": "095b713c",
   "metadata": {},
   "outputs": [],
   "source": [
    "class Employee:\n",
    "    def __init__(self,fname,lname):\n",
    "        self.fname = fname\n",
    "        self.lname = lname\n",
    "    \n",
    "    def __setattr__(self ,name ,value):\n",
    "        super().__setattr__(name , value)"
   ]
  },
  {
   "cell_type": "code",
   "execution_count": 30,
   "id": "f4cf3e21",
   "metadata": {},
   "outputs": [
    {
     "data": {
      "text/plain": [
       "{'fname': 'lliB', 'lname': 'setaG'}"
      ]
     },
     "execution_count": 30,
     "metadata": {},
     "output_type": "execute_result"
    }
   ],
   "source": [
    "e1 = Employee(\"Steve\",\"Jobs\")\n",
    "e1.__setattr__(\"fname\",\"Bill\")\n",
    "e1.__setattr__(\"lname\",\"Gates\")\n",
    "e1.__dict__"
   ]
  },
  {
   "cell_type": "code",
   "execution_count": null,
   "id": "11e6965e",
   "metadata": {},
   "outputs": [],
   "source": []
  },
  {
   "cell_type": "code",
   "execution_count": null,
   "id": "1dfaa3e6",
   "metadata": {},
   "outputs": [],
   "source": [
    "#"
   ]
  },
  {
   "cell_type": "code",
   "execution_count": 31,
   "id": "24591848",
   "metadata": {},
   "outputs": [],
   "source": [
    "class Employee:\n",
    "    def __init__(self , fname , lname , pay):\n",
    "        self.fname = fname \n",
    "        self.lname = lname\n",
    "        self.pay = pay\n",
    "        \n",
    "    def __setattr__(self,name,value):\n",
    "        if name == \"fname\":\n",
    "            if len(value)>=5 and len(value)<=8:\n",
    "                super().__setattr__(name,value)\n",
    "            else:\n",
    "                raise ValueError(\"fname should be in the range of 5 to 8 characters\")\n",
    "            \n",
    "        elif name == \"lname\":\n",
    "            if len(value)>= 8 and len(value)<=12:\n",
    "                super().__setattr__(name,value)\n",
    "            else:\n",
    "                raise ValueError(\"lname should be in the range of 8 to 12 characters\")\n",
    "            \n",
    "        elif name == \"pay\":\n",
    "            if value < 1000:\n",
    "                raise ValueError(\"Minimum pay must be $1000\")\n",
    "            else:\n",
    "                 super().__setattr__(name,value)                "
   ]
  },
  {
   "cell_type": "code",
   "execution_count": 32,
   "id": "b27786ca",
   "metadata": {},
   "outputs": [
    {
     "data": {
      "text/plain": [
       "{'fname': 'Steve', 'lname': 'Jobsssss', 'pay': 2000}"
      ]
     },
     "execution_count": 32,
     "metadata": {},
     "output_type": "execute_result"
    }
   ],
   "source": [
    "e1 = Employee(\"Steve\",\"Jobsssss\",2000)\n",
    "e1.__dict__"
   ]
  },
  {
   "cell_type": "code",
   "execution_count": 33,
   "id": "99a679a5",
   "metadata": {},
   "outputs": [
    {
     "ename": "ValueError",
     "evalue": "fname should be in the range of 5 to 8 characters",
     "output_type": "error",
     "traceback": [
      "\u001b[1;31m---------------------------------------------------------------------------\u001b[0m",
      "\u001b[1;31mValueError\u001b[0m                                Traceback (most recent call last)",
      "Cell \u001b[1;32mIn[33], line 1\u001b[0m\n\u001b[1;32m----> 1\u001b[0m e2 \u001b[38;5;241m=\u001b[39m Employee(\u001b[38;5;124m\"\u001b[39m\u001b[38;5;124mStew\u001b[39m\u001b[38;5;124m\"\u001b[39m,\u001b[38;5;124m\"\u001b[39m\u001b[38;5;124mJobsssss\u001b[39m\u001b[38;5;124m\"\u001b[39m,\u001b[38;5;241m2000\u001b[39m)\n",
      "Cell \u001b[1;32mIn[31], line 3\u001b[0m, in \u001b[0;36mEmployee.__init__\u001b[1;34m(self, fname, lname, pay)\u001b[0m\n\u001b[0;32m      2\u001b[0m \u001b[38;5;28;01mdef\u001b[39;00m \u001b[38;5;21m__init__\u001b[39m(\u001b[38;5;28mself\u001b[39m , fname , lname , pay):\n\u001b[1;32m----> 3\u001b[0m     \u001b[38;5;28mself\u001b[39m\u001b[38;5;241m.\u001b[39mfname \u001b[38;5;241m=\u001b[39m fname \n\u001b[0;32m      4\u001b[0m     \u001b[38;5;28mself\u001b[39m\u001b[38;5;241m.\u001b[39mlname \u001b[38;5;241m=\u001b[39m lname\n\u001b[0;32m      5\u001b[0m     \u001b[38;5;28mself\u001b[39m\u001b[38;5;241m.\u001b[39mpay \u001b[38;5;241m=\u001b[39m pay\n",
      "Cell \u001b[1;32mIn[31], line 12\u001b[0m, in \u001b[0;36mEmployee.__setattr__\u001b[1;34m(self, name, value)\u001b[0m\n\u001b[0;32m     10\u001b[0m         \u001b[38;5;28msuper\u001b[39m()\u001b[38;5;241m.\u001b[39m\u001b[38;5;21m__setattr__\u001b[39m(name,value)\n\u001b[0;32m     11\u001b[0m     \u001b[38;5;28;01melse\u001b[39;00m:\n\u001b[1;32m---> 12\u001b[0m         \u001b[38;5;28;01mraise\u001b[39;00m \u001b[38;5;167;01mValueError\u001b[39;00m(\u001b[38;5;124m\"\u001b[39m\u001b[38;5;124mfname should be in the range of 5 to 8 characters\u001b[39m\u001b[38;5;124m\"\u001b[39m)\n\u001b[0;32m     14\u001b[0m \u001b[38;5;28;01melif\u001b[39;00m name \u001b[38;5;241m==\u001b[39m \u001b[38;5;124m\"\u001b[39m\u001b[38;5;124mlname\u001b[39m\u001b[38;5;124m\"\u001b[39m:\n\u001b[0;32m     15\u001b[0m     \u001b[38;5;28;01mif\u001b[39;00m \u001b[38;5;28mlen\u001b[39m(value)\u001b[38;5;241m>\u001b[39m\u001b[38;5;241m=\u001b[39m \u001b[38;5;241m8\u001b[39m \u001b[38;5;129;01mand\u001b[39;00m \u001b[38;5;28mlen\u001b[39m(value)\u001b[38;5;241m<\u001b[39m\u001b[38;5;241m=\u001b[39m\u001b[38;5;241m12\u001b[39m:\n",
      "\u001b[1;31mValueError\u001b[0m: fname should be in the range of 5 to 8 characters"
     ]
    }
   ],
   "source": [
    "e2 = Employee(\"Stew\",\"Jobsssss\",2000)"
   ]
  },
  {
   "cell_type": "code",
   "execution_count": 12,
   "id": "e7c9c6ac",
   "metadata": {},
   "outputs": [
    {
     "ename": "ValueError",
     "evalue": "lname should be in the range of 8 to 12 characters",
     "output_type": "error",
     "traceback": [
      "\u001b[1;31m---------------------------------------------------------------------------\u001b[0m",
      "\u001b[1;31mValueError\u001b[0m                                Traceback (most recent call last)",
      "Cell \u001b[1;32mIn[12], line 1\u001b[0m\n\u001b[1;32m----> 1\u001b[0m e3 \u001b[38;5;241m=\u001b[39m Employee(\u001b[38;5;124m\"\u001b[39m\u001b[38;5;124mSteeve\u001b[39m\u001b[38;5;124m\"\u001b[39m,\u001b[38;5;124m\"\u001b[39m\u001b[38;5;124mJobs\u001b[39m\u001b[38;5;124m\"\u001b[39m,\u001b[38;5;241m2000\u001b[39m)\n",
      "Cell \u001b[1;32mIn[5], line 4\u001b[0m, in \u001b[0;36mEmployee.__init__\u001b[1;34m(self, fname, lname, pay)\u001b[0m\n\u001b[0;32m      2\u001b[0m \u001b[38;5;28;01mdef\u001b[39;00m \u001b[38;5;21m__init__\u001b[39m(\u001b[38;5;28mself\u001b[39m , fname , lname , pay):\n\u001b[0;32m      3\u001b[0m     \u001b[38;5;28mself\u001b[39m\u001b[38;5;241m.\u001b[39mfname \u001b[38;5;241m=\u001b[39m fname \n\u001b[1;32m----> 4\u001b[0m     \u001b[38;5;28mself\u001b[39m\u001b[38;5;241m.\u001b[39mlname \u001b[38;5;241m=\u001b[39m lname\n\u001b[0;32m      5\u001b[0m     \u001b[38;5;28mself\u001b[39m\u001b[38;5;241m.\u001b[39mpay \u001b[38;5;241m=\u001b[39m pay\n",
      "Cell \u001b[1;32mIn[5], line 18\u001b[0m, in \u001b[0;36mEmployee.__setattr__\u001b[1;34m(self, name, value)\u001b[0m\n\u001b[0;32m     16\u001b[0m         \u001b[38;5;28msuper\u001b[39m()\u001b[38;5;241m.\u001b[39m\u001b[38;5;21m__setattr__\u001b[39m(name,value)\n\u001b[0;32m     17\u001b[0m     \u001b[38;5;28;01melse\u001b[39;00m:\n\u001b[1;32m---> 18\u001b[0m         \u001b[38;5;28;01mraise\u001b[39;00m \u001b[38;5;167;01mValueError\u001b[39;00m(\u001b[38;5;124m\"\u001b[39m\u001b[38;5;124mlname should be in the range of 8 to 12 characters\u001b[39m\u001b[38;5;124m\"\u001b[39m)\n\u001b[0;32m     20\u001b[0m \u001b[38;5;28;01melif\u001b[39;00m name \u001b[38;5;241m==\u001b[39m \u001b[38;5;124m\"\u001b[39m\u001b[38;5;124mpay\u001b[39m\u001b[38;5;124m\"\u001b[39m:\n\u001b[0;32m     21\u001b[0m     \u001b[38;5;28;01mif\u001b[39;00m value \u001b[38;5;241m<\u001b[39m \u001b[38;5;241m1000\u001b[39m:\n",
      "\u001b[1;31mValueError\u001b[0m: lname should be in the range of 8 to 12 characters"
     ]
    }
   ],
   "source": [
    "e3 = Employee(\"Steeve\",\"Jobs\",2000)"
   ]
  },
  {
   "cell_type": "code",
   "execution_count": 15,
   "id": "f3d85bc5",
   "metadata": {},
   "outputs": [
    {
     "ename": "ValueError",
     "evalue": "Minimum pay must be $1000",
     "output_type": "error",
     "traceback": [
      "\u001b[1;31m---------------------------------------------------------------------------\u001b[0m",
      "\u001b[1;31mValueError\u001b[0m                                Traceback (most recent call last)",
      "Cell \u001b[1;32mIn[15], line 1\u001b[0m\n\u001b[1;32m----> 1\u001b[0m e4 \u001b[38;5;241m=\u001b[39m Employee(\u001b[38;5;124m\"\u001b[39m\u001b[38;5;124mSteeve\u001b[39m\u001b[38;5;124m\"\u001b[39m,\u001b[38;5;124m\"\u001b[39m\u001b[38;5;124mJobsssss\u001b[39m\u001b[38;5;124m\"\u001b[39m,\u001b[38;5;241m500\u001b[39m)\n",
      "Cell \u001b[1;32mIn[5], line 5\u001b[0m, in \u001b[0;36mEmployee.__init__\u001b[1;34m(self, fname, lname, pay)\u001b[0m\n\u001b[0;32m      3\u001b[0m \u001b[38;5;28mself\u001b[39m\u001b[38;5;241m.\u001b[39mfname \u001b[38;5;241m=\u001b[39m fname \n\u001b[0;32m      4\u001b[0m \u001b[38;5;28mself\u001b[39m\u001b[38;5;241m.\u001b[39mlname \u001b[38;5;241m=\u001b[39m lname\n\u001b[1;32m----> 5\u001b[0m \u001b[38;5;28mself\u001b[39m\u001b[38;5;241m.\u001b[39mpay \u001b[38;5;241m=\u001b[39m pay\n",
      "Cell \u001b[1;32mIn[5], line 22\u001b[0m, in \u001b[0;36mEmployee.__setattr__\u001b[1;34m(self, name, value)\u001b[0m\n\u001b[0;32m     20\u001b[0m \u001b[38;5;28;01melif\u001b[39;00m name \u001b[38;5;241m==\u001b[39m \u001b[38;5;124m\"\u001b[39m\u001b[38;5;124mpay\u001b[39m\u001b[38;5;124m\"\u001b[39m:\n\u001b[0;32m     21\u001b[0m     \u001b[38;5;28;01mif\u001b[39;00m value \u001b[38;5;241m<\u001b[39m \u001b[38;5;241m1000\u001b[39m:\n\u001b[1;32m---> 22\u001b[0m         \u001b[38;5;28;01mraise\u001b[39;00m \u001b[38;5;167;01mValueError\u001b[39;00m(\u001b[38;5;124m\"\u001b[39m\u001b[38;5;124mMinimum pay must be $1000\u001b[39m\u001b[38;5;124m\"\u001b[39m)\n\u001b[0;32m     23\u001b[0m     \u001b[38;5;28;01melse\u001b[39;00m:\n\u001b[0;32m     24\u001b[0m          \u001b[38;5;28msuper\u001b[39m()\u001b[38;5;241m.\u001b[39m\u001b[38;5;21m__setattr__\u001b[39m(name,value)\n",
      "\u001b[1;31mValueError\u001b[0m: Minimum pay must be $1000"
     ]
    }
   ],
   "source": [
    "e4 = Employee(\"Steeve\",\"Jobsssss\",500)"
   ]
  },
  {
   "cell_type": "code",
   "execution_count": 16,
   "id": "0444740a",
   "metadata": {},
   "outputs": [],
   "source": [
    "#To intercept adding any extra attribute to the employee object\n",
    "\n",
    "class Employee:\n",
    "    def __init__(self,fname,lname,pay):\n",
    "        self.fname = fname\n",
    "        self.lname = lname\n",
    "        self.pay = pay"
   ]
  },
  {
   "cell_type": "code",
   "execution_count": 21,
   "id": "a686dc64",
   "metadata": {},
   "outputs": [
    {
     "data": {
      "text/plain": [
       "{'fname': 'Steve', 'lname': 'Jobs', 'pay': 1000}"
      ]
     },
     "execution_count": 21,
     "metadata": {},
     "output_type": "execute_result"
    }
   ],
   "source": [
    "emp1 = Employee(\"Steve\",\"Jobs\",1000)\n",
    "emp1.__dict__"
   ]
  },
  {
   "cell_type": "code",
   "execution_count": 24,
   "id": "f74a0093",
   "metadata": {},
   "outputs": [
    {
     "data": {
      "text/plain": [
       "{'fname': 'Steve', 'lname': 'Jobs', 'pay': 1000, 'age': 28}"
      ]
     },
     "execution_count": 24,
     "metadata": {},
     "output_type": "execute_result"
    }
   ],
   "source": [
    "emp1.age = 28\n",
    "emp1.__dict__"
   ]
  },
  {
   "cell_type": "code",
   "execution_count": 26,
   "id": "02b7da06",
   "metadata": {},
   "outputs": [
    {
     "data": {
      "text/plain": [
       "{'fname': 'Bill', 'lname': 'Gates', 'pay': 5000}"
      ]
     },
     "execution_count": 26,
     "metadata": {},
     "output_type": "execute_result"
    }
   ],
   "source": [
    "emp2 = Employee(\"Bill\",\"Gates\",5000)\n",
    "emp2.__dict__"
   ]
  },
  {
   "cell_type": "code",
   "execution_count": 28,
   "id": "35704eef",
   "metadata": {},
   "outputs": [
    {
     "data": {
      "text/plain": [
       "{'fname': 'Bill', 'lname': 'Gates', 'pay': 5000, 'bloodgroup': 'A+'}"
      ]
     },
     "execution_count": 28,
     "metadata": {},
     "output_type": "execute_result"
    }
   ],
   "source": [
    "emp2.bloodgroup = \"A+\"\n",
    "emp2.__dict__"
   ]
  },
  {
   "cell_type": "code",
   "execution_count": null,
   "id": "c3da359d",
   "metadata": {},
   "outputs": [],
   "source": [
    "#Different attributes cannot be allowed for the employees of the same company we need to intercept it"
   ]
  },
  {
   "cell_type": "code",
   "execution_count": 31,
   "id": "abcdfebf",
   "metadata": {},
   "outputs": [],
   "source": [
    "class Employee:\n",
    "    def __init__(self,fname,lname,pay):\n",
    "        self.fname = fname\n",
    "        self.lname = lname\n",
    "        self.pay = pay\n",
    "        \n",
    "    def __setattr__(self , name , value):\n",
    "        if name not in (\"fname\",\"lname\",\"pay\"):\n",
    "            raise AttributeError (f\" cannot set {name}\")\n",
    "        super().__setattr__(name,value)"
   ]
  },
  {
   "cell_type": "code",
   "execution_count": 33,
   "id": "e83b7c74",
   "metadata": {},
   "outputs": [
    {
     "data": {
      "text/plain": [
       "{'fname': 'Steve', 'lname': 'Jobs', 'pay': 3000}"
      ]
     },
     "execution_count": 33,
     "metadata": {},
     "output_type": "execute_result"
    }
   ],
   "source": [
    "e = Employee(\"Steve\",\"Jobs\",3000)\n",
    "e.__dict__"
   ]
  },
  {
   "cell_type": "code",
   "execution_count": 34,
   "id": "905ee613",
   "metadata": {},
   "outputs": [
    {
     "ename": "AttributeError",
     "evalue": " cannot set age",
     "output_type": "error",
     "traceback": [
      "\u001b[1;31m---------------------------------------------------------------------------\u001b[0m",
      "\u001b[1;31mAttributeError\u001b[0m                            Traceback (most recent call last)",
      "Cell \u001b[1;32mIn[34], line 1\u001b[0m\n\u001b[1;32m----> 1\u001b[0m e\u001b[38;5;241m.\u001b[39mage \u001b[38;5;241m=\u001b[39m \u001b[38;5;241m30\u001b[39m\n",
      "Cell \u001b[1;32mIn[31], line 9\u001b[0m, in \u001b[0;36mEmployee.__setattr__\u001b[1;34m(self, name, value)\u001b[0m\n\u001b[0;32m      7\u001b[0m \u001b[38;5;28;01mdef\u001b[39;00m \u001b[38;5;21m__setattr__\u001b[39m(\u001b[38;5;28mself\u001b[39m , name , value):\n\u001b[0;32m      8\u001b[0m     \u001b[38;5;28;01mif\u001b[39;00m name \u001b[38;5;129;01mnot\u001b[39;00m \u001b[38;5;129;01min\u001b[39;00m (\u001b[38;5;124m\"\u001b[39m\u001b[38;5;124mfname\u001b[39m\u001b[38;5;124m\"\u001b[39m,\u001b[38;5;124m\"\u001b[39m\u001b[38;5;124mlname\u001b[39m\u001b[38;5;124m\"\u001b[39m,\u001b[38;5;124m\"\u001b[39m\u001b[38;5;124mpay\u001b[39m\u001b[38;5;124m\"\u001b[39m):\n\u001b[1;32m----> 9\u001b[0m         \u001b[38;5;28;01mraise\u001b[39;00m \u001b[38;5;167;01mAttributeError\u001b[39;00m (\u001b[38;5;124mf\u001b[39m\u001b[38;5;124m\"\u001b[39m\u001b[38;5;124m cannot set \u001b[39m\u001b[38;5;132;01m{\u001b[39;00mname\u001b[38;5;132;01m}\u001b[39;00m\u001b[38;5;124m\"\u001b[39m)\n\u001b[0;32m     10\u001b[0m     \u001b[38;5;28msuper\u001b[39m()\u001b[38;5;241m.\u001b[39m\u001b[38;5;21m__setattr__\u001b[39m(name,value)\n",
      "\u001b[1;31mAttributeError\u001b[0m:  cannot set age"
     ]
    }
   ],
   "source": [
    "e.age = 30"
   ]
  },
  {
   "cell_type": "code",
   "execution_count": null,
   "id": "c11a9d7b",
   "metadata": {},
   "outputs": [],
   "source": [
    "#To avoid setting the credentials once the constructor is being called"
   ]
  },
  {
   "cell_type": "code",
   "execution_count": 35,
   "id": "85522248",
   "metadata": {},
   "outputs": [],
   "source": [
    "class Employee:\n",
    "    def __init__(self , fname , lname, pay):\n",
    "        super().__setattr__(\"fname\",fname)\n",
    "        super().__setattr__(\"lname\",lname)\n",
    "        super().__setattr__(\"pay\",pay)\n",
    "        \n",
    "    def __setattr__(self,name,value):\n",
    "        raise AttributeError(\"No\")\n",
    "    def _delattr__(self ,name):\n",
    "        raise AttributeError (\"No!!! You cannot delete an attribute\")"
   ]
  },
  {
   "cell_type": "code",
   "execution_count": 37,
   "id": "b4f29c27",
   "metadata": {},
   "outputs": [
    {
     "data": {
      "text/plain": [
       "{'fname': 'Steve', 'lname': 'Jobs', 'pay': 1000}"
      ]
     },
     "execution_count": 37,
     "metadata": {},
     "output_type": "execute_result"
    }
   ],
   "source": [
    "emp = Employee(\"Steve\",\"Jobs\",1000)\n",
    "emp.__dict__"
   ]
  },
  {
   "cell_type": "code",
   "execution_count": 38,
   "id": "27a62c11",
   "metadata": {},
   "outputs": [
    {
     "ename": "AttributeError",
     "evalue": "No",
     "output_type": "error",
     "traceback": [
      "\u001b[1;31m---------------------------------------------------------------------------\u001b[0m",
      "\u001b[1;31mAttributeError\u001b[0m                            Traceback (most recent call last)",
      "Cell \u001b[1;32mIn[38], line 1\u001b[0m\n\u001b[1;32m----> 1\u001b[0m emp\u001b[38;5;241m.\u001b[39m\u001b[38;5;21m__setattr__\u001b[39m(\u001b[38;5;124m\"\u001b[39m\u001b[38;5;124mfname\u001b[39m\u001b[38;5;124m\"\u001b[39m,\u001b[38;5;124m\"\u001b[39m\u001b[38;5;124mBill\u001b[39m\u001b[38;5;124m\"\u001b[39m)\n",
      "Cell \u001b[1;32mIn[35], line 8\u001b[0m, in \u001b[0;36mEmployee.__setattr__\u001b[1;34m(self, name, value)\u001b[0m\n\u001b[0;32m      7\u001b[0m \u001b[38;5;28;01mdef\u001b[39;00m \u001b[38;5;21m__setattr__\u001b[39m(\u001b[38;5;28mself\u001b[39m,name,value):\n\u001b[1;32m----> 8\u001b[0m     \u001b[38;5;28;01mraise\u001b[39;00m \u001b[38;5;167;01mAttributeError\u001b[39;00m(\u001b[38;5;124m\"\u001b[39m\u001b[38;5;124mNo\u001b[39m\u001b[38;5;124m\"\u001b[39m)\n",
      "\u001b[1;31mAttributeError\u001b[0m: No"
     ]
    }
   ],
   "source": [
    "emp.__setattr__(\"fname\",\"Bill\")"
   ]
  },
  {
   "cell_type": "code",
   "execution_count": null,
   "id": "c9a2b15a",
   "metadata": {},
   "outputs": [],
   "source": [
    "####################################################"
   ]
  },
  {
   "cell_type": "code",
   "execution_count": 1,
   "id": "7768b993",
   "metadata": {},
   "outputs": [],
   "source": [
    "class Calculator :\n",
    "    def __init__(self ,a , b):\n",
    "        self.a = a\n",
    "        self.b = b\n",
    "    #intercepting the values \"a\" and \"b\"\n",
    "    def __setattr__(self,name,value):\n",
    "        if not isinstance(value ,(int , float)):\n",
    "            raise TypeError(\"Only numbers are allowed\")\n",
    "        super().__setattr__(name,value)\n",
    "        \n",
    "        \n",
    "\n",
    "    def mul(self):\n",
    "        return self.a * self.b\n"
   ]
  },
  {
   "cell_type": "code",
   "execution_count": 2,
   "id": "46ad5cf7",
   "metadata": {},
   "outputs": [
    {
     "data": {
      "text/plain": [
       "54"
      ]
     },
     "execution_count": 2,
     "metadata": {},
     "output_type": "execute_result"
    }
   ],
   "source": [
    "c = Calculator(6,9)\n",
    "c.mul()"
   ]
  },
  {
   "cell_type": "code",
   "execution_count": 3,
   "id": "6c35d95b",
   "metadata": {},
   "outputs": [
    {
     "data": {
      "text/plain": [
       "{'a': 3, 'b': 5}"
      ]
     },
     "execution_count": 3,
     "metadata": {},
     "output_type": "execute_result"
    }
   ],
   "source": [
    "c.__setattr__(\"a\",3)\n",
    "c.__setattr__(\"b\",5)\n",
    "\n",
    "c.__dict__"
   ]
  },
  {
   "cell_type": "code",
   "execution_count": 8,
   "id": "9d7ebe75",
   "metadata": {},
   "outputs": [
    {
     "ename": "TypeError",
     "evalue": "Only numbers are allowed",
     "output_type": "error",
     "traceback": [
      "\u001b[1;31m---------------------------------------------------------------------------\u001b[0m",
      "\u001b[1;31mTypeError\u001b[0m                                 Traceback (most recent call last)",
      "Cell \u001b[1;32mIn[8], line 1\u001b[0m\n\u001b[1;32m----> 1\u001b[0m c\u001b[38;5;241m.\u001b[39m\u001b[38;5;21m__setattr__\u001b[39m(\u001b[38;5;124m\"\u001b[39m\u001b[38;5;124ma\u001b[39m\u001b[38;5;124m\"\u001b[39m,\u001b[38;5;124m\"\u001b[39m\u001b[38;5;124mHello\u001b[39m\u001b[38;5;124m\"\u001b[39m)\n\u001b[0;32m      2\u001b[0m c\u001b[38;5;241m.\u001b[39m\u001b[38;5;21m__setattr__\u001b[39m(\u001b[38;5;124m\"\u001b[39m\u001b[38;5;124mb\u001b[39m\u001b[38;5;124m\"\u001b[39m,\u001b[38;5;241m-\u001b[39m\u001b[38;5;241m2\u001b[39m)\n\u001b[0;32m      3\u001b[0m c\u001b[38;5;241m.\u001b[39m\u001b[38;5;18m__dict__\u001b[39m\n",
      "Cell \u001b[1;32mIn[5], line 9\u001b[0m, in \u001b[0;36mCalculator.__setattr__\u001b[1;34m(self, name, value)\u001b[0m\n\u001b[0;32m      7\u001b[0m \u001b[38;5;28;01mdef\u001b[39;00m \u001b[38;5;21m__setattr__\u001b[39m(\u001b[38;5;28mself\u001b[39m, name, value):\n\u001b[0;32m      8\u001b[0m     \u001b[38;5;28;01mif\u001b[39;00m \u001b[38;5;129;01mnot\u001b[39;00m \u001b[38;5;28misinstance\u001b[39m(value, (\u001b[38;5;28mint\u001b[39m, \u001b[38;5;28mfloat\u001b[39m)):\n\u001b[1;32m----> 9\u001b[0m         \u001b[38;5;28;01mraise\u001b[39;00m \u001b[38;5;167;01mTypeError\u001b[39;00m(\u001b[38;5;124m\"\u001b[39m\u001b[38;5;124mOnly numbers are allowed\u001b[39m\u001b[38;5;124m\"\u001b[39m)\n\u001b[0;32m     10\u001b[0m     \u001b[38;5;28msuper\u001b[39m()\u001b[38;5;241m.\u001b[39m\u001b[38;5;21m__setattr__\u001b[39m(name, value)\n",
      "\u001b[1;31mTypeError\u001b[0m: Only numbers are allowed"
     ]
    }
   ],
   "source": [
    "c.__setattr__(\"a\",\"Hello\")\n",
    "c.__setattr__(\"b\",-2)\n",
    "c.__dict__"
   ]
  },
  {
   "cell_type": "code",
   "execution_count": 13,
   "id": "e4452eb6",
   "metadata": {},
   "outputs": [
    {
     "data": {
      "text/plain": [
       "{'a': True, 'b': False}"
      ]
     },
     "execution_count": 13,
     "metadata": {},
     "output_type": "execute_result"
    }
   ],
   "source": [
    "c.__setattr__(\"a\",True)   #When we use isinstance function and pass the values as true or false it considers the values to be 1(True) and 0(False)\n",
    "c.__setattr__(\"b\",False)   #Hence it is accepting the True and False even in the overriden method\n",
    "\n",
    "c.__dict__\n",
    "c.__dict__\n",
    "#c.mul()"
   ]
  },
  {
   "cell_type": "code",
   "execution_count": null,
   "id": "3f11c29d",
   "metadata": {},
   "outputs": [],
   "source": [
    "#####################################################################################################################"
   ]
  },
  {
   "cell_type": "code",
   "execution_count": null,
   "id": "54ff47fb",
   "metadata": {},
   "outputs": [],
   "source": [
    "#####################################################################################################################"
   ]
  },
  {
   "cell_type": "code",
   "execution_count": null,
   "id": "4d430ac5",
   "metadata": {},
   "outputs": [],
   "source": []
  },
  {
   "cell_type": "code",
   "execution_count": null,
   "id": "d8642893",
   "metadata": {},
   "outputs": [],
   "source": []
  },
  {
   "cell_type": "code",
   "execution_count": null,
   "id": "8c94c1ca",
   "metadata": {},
   "outputs": [],
   "source": []
  },
  {
   "cell_type": "code",
   "execution_count": null,
   "id": "f827ea91",
   "metadata": {},
   "outputs": [],
   "source": []
  },
  {
   "cell_type": "code",
   "execution_count": 1,
   "id": "46f1a164",
   "metadata": {},
   "outputs": [],
   "source": [
    "class Employee:\n",
    "    def __init__(self,fname,lname):\n",
    "        self.fname__ = fname\n",
    "        self.lname = lname\n",
    "    \n",
    "    def __setattr__(self ,name ,value):\n",
    "        super().__setattr__(name , value[::-1]) #setattr method of object class"
   ]
  },
  {
   "cell_type": "code",
   "execution_count": 3,
   "id": "fbdec3ed",
   "metadata": {},
   "outputs": [
    {
     "data": {
      "text/plain": [
       "{'fname__': '1a', 'lname': '1b'}"
      ]
     },
     "execution_count": 3,
     "metadata": {},
     "output_type": "execute_result"
    }
   ],
   "source": [
    "e1 = Employee(\"a1\",\"b1\")\n",
    "e1.__dict__"
   ]
  },
  {
   "cell_type": "code",
   "execution_count": 14,
   "id": "9f828d1d",
   "metadata": {},
   "outputs": [],
   "source": [
    "\n",
    "e1.__setattr__(\"cat\",\"bat\")\n"
   ]
  },
  {
   "cell_type": "code",
   "execution_count": null,
   "id": "11cafc26",
   "metadata": {},
   "outputs": [],
   "source": []
  },
  {
   "cell_type": "code",
   "execution_count": null,
   "id": "968b5bbf",
   "metadata": {},
   "outputs": [],
   "source": []
  },
  {
   "cell_type": "code",
   "execution_count": null,
   "id": "ed36c4f9",
   "metadata": {},
   "outputs": [],
   "source": []
  },
  {
   "cell_type": "code",
   "execution_count": null,
   "id": "d04e64d8",
   "metadata": {},
   "outputs": [],
   "source": []
  },
  {
   "cell_type": "code",
   "execution_count": null,
   "id": "223e02d7",
   "metadata": {},
   "outputs": [],
   "source": []
  }
 ],
 "metadata": {
  "kernelspec": {
   "display_name": "Python 3 (ipykernel)",
   "language": "python",
   "name": "python3"
  },
  "language_info": {
   "codemirror_mode": {
    "name": "ipython",
    "version": 3
   },
   "file_extension": ".py",
   "mimetype": "text/x-python",
   "name": "python",
   "nbconvert_exporter": "python",
   "pygments_lexer": "ipython3",
   "version": "3.11.3"
  }
 },
 "nbformat": 4,
 "nbformat_minor": 5
}
